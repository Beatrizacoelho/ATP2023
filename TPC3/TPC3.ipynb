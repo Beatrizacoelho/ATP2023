{
 "cells": [
  {
   "cell_type": "markdown",
   "metadata": {},
   "source": [
    "## TPC3: Adivinha o número!?\n",
    "\n",
    "Desenvolve em Python o código necessário para o jogo do Adivinha o número: \n",
    "* O jogo deverá ter dois modos: o computador tenta acertar no número que o jogador pensou ou, o jogador tenta acertar no número que o computador pensou; \n",
    "* No fim, o programa deverá indicar quantas tentativas foram realizadas para chegar ao resultado;\n",
    "* O Jogo: \n",
    "    - o utilizador pensa num número entre 0 e 100;\n",
    "    - o computador tenta adivinhar indicando um número do intervalo;\n",
    "    - o utilizador indica se o número em que pensou é **maior**, **menor**, ou se o computador **acertou**;\n",
    "    - ao terminar, o programa imprime o número de tentativas que o computador teve de fazer até chegar ao número.\n",
    "\n",
    "Que conclusão podes tirar sobre o número de tentativas necessárias para um número entre 0 e 100? E se fosse entre 0 e 1000?"
   ]
  },
  {
   "cell_type": "code",
   "execution_count": 8,
   "metadata": {},
   "outputs": [
    {
     "ename": "KeyboardInterrupt",
     "evalue": "Interrupted by user",
     "output_type": "error",
     "traceback": [
      "\u001b[1;31m---------------------------------------------------------------------------\u001b[0m",
      "\u001b[1;31mKeyboardInterrupt\u001b[0m                         Traceback (most recent call last)",
      "\u001b[1;32mc:\\Users\\beatr\\Desktop\\TPC3\\TPC3.ipynb Cell 2\u001b[0m line \u001b[0;36m2\n\u001b[0;32m     <a href='vscode-notebook-cell:/c%3A/Users/beatr/Desktop/TPC3/TPC3.ipynb#W1sZmlsZQ%3D%3D?line=22'>23</a>\u001b[0m n \u001b[39m=\u001b[39m n \u001b[39m+\u001b[39m \u001b[39m1\u001b[39m\n\u001b[0;32m     <a href='vscode-notebook-cell:/c%3A/Users/beatr/Desktop/TPC3/TPC3.ipynb#W1sZmlsZQ%3D%3D?line=23'>24</a>\u001b[0m x \u001b[39m=\u001b[39m \u001b[39mint\u001b[39m((sup \u001b[39m+\u001b[39m inf)\u001b[39m/\u001b[39m\u001b[39m2\u001b[39m)\n\u001b[1;32m---> <a href='vscode-notebook-cell:/c%3A/Users/beatr/Desktop/TPC3/TPC3.ipynb#W1sZmlsZQ%3D%3D?line=24'>25</a>\u001b[0m pergunta \u001b[39m=\u001b[39m \u001b[39minput\u001b[39;49m(\u001b[39m\"\u001b[39;49m\u001b[39mO seu número é \u001b[39;49m\u001b[39m\"\u001b[39;49m \u001b[39m+\u001b[39;49m \u001b[39mstr\u001b[39;49m(x) \u001b[39m+\u001b[39;49m \u001b[39m\"\u001b[39;49m\u001b[39m?\u001b[39;49m\u001b[39m\"\u001b[39;49m)\n\u001b[0;32m     <a href='vscode-notebook-cell:/c%3A/Users/beatr/Desktop/TPC3/TPC3.ipynb#W1sZmlsZQ%3D%3D?line=25'>26</a>\u001b[0m \u001b[39mif\u001b[39;00m pergunta \u001b[39m==\u001b[39m \u001b[39m\"\u001b[39m\u001b[39mmaior\u001b[39m\u001b[39m\"\u001b[39m:\n\u001b[0;32m     <a href='vscode-notebook-cell:/c%3A/Users/beatr/Desktop/TPC3/TPC3.ipynb#W1sZmlsZQ%3D%3D?line=26'>27</a>\u001b[0m     inf \u001b[39m=\u001b[39m x\n",
      "File \u001b[1;32m~\\AppData\\Roaming\\Python\\Python311\\site-packages\\ipykernel\\kernelbase.py:1202\u001b[0m, in \u001b[0;36mKernel.raw_input\u001b[1;34m(self, prompt)\u001b[0m\n\u001b[0;32m   1200\u001b[0m     msg \u001b[39m=\u001b[39m \u001b[39m\"\u001b[39m\u001b[39mraw_input was called, but this frontend does not support input requests.\u001b[39m\u001b[39m\"\u001b[39m\n\u001b[0;32m   1201\u001b[0m     \u001b[39mraise\u001b[39;00m StdinNotImplementedError(msg)\n\u001b[1;32m-> 1202\u001b[0m \u001b[39mreturn\u001b[39;00m \u001b[39mself\u001b[39;49m\u001b[39m.\u001b[39;49m_input_request(\n\u001b[0;32m   1203\u001b[0m     \u001b[39mstr\u001b[39;49m(prompt),\n\u001b[0;32m   1204\u001b[0m     \u001b[39mself\u001b[39;49m\u001b[39m.\u001b[39;49m_parent_ident[\u001b[39m\"\u001b[39;49m\u001b[39mshell\u001b[39;49m\u001b[39m\"\u001b[39;49m],\n\u001b[0;32m   1205\u001b[0m     \u001b[39mself\u001b[39;49m\u001b[39m.\u001b[39;49mget_parent(\u001b[39m\"\u001b[39;49m\u001b[39mshell\u001b[39;49m\u001b[39m\"\u001b[39;49m),\n\u001b[0;32m   1206\u001b[0m     password\u001b[39m=\u001b[39;49m\u001b[39mFalse\u001b[39;49;00m,\n\u001b[0;32m   1207\u001b[0m )\n",
      "File \u001b[1;32m~\\AppData\\Roaming\\Python\\Python311\\site-packages\\ipykernel\\kernelbase.py:1245\u001b[0m, in \u001b[0;36mKernel._input_request\u001b[1;34m(self, prompt, ident, parent, password)\u001b[0m\n\u001b[0;32m   1242\u001b[0m \u001b[39mexcept\u001b[39;00m \u001b[39mKeyboardInterrupt\u001b[39;00m:\n\u001b[0;32m   1243\u001b[0m     \u001b[39m# re-raise KeyboardInterrupt, to truncate traceback\u001b[39;00m\n\u001b[0;32m   1244\u001b[0m     msg \u001b[39m=\u001b[39m \u001b[39m\"\u001b[39m\u001b[39mInterrupted by user\u001b[39m\u001b[39m\"\u001b[39m\n\u001b[1;32m-> 1245\u001b[0m     \u001b[39mraise\u001b[39;00m \u001b[39mKeyboardInterrupt\u001b[39;00m(msg) \u001b[39mfrom\u001b[39;00m \u001b[39mNone\u001b[39;00m\n\u001b[0;32m   1246\u001b[0m \u001b[39mexcept\u001b[39;00m \u001b[39mException\u001b[39;00m:\n\u001b[0;32m   1247\u001b[0m     \u001b[39mself\u001b[39m\u001b[39m.\u001b[39mlog\u001b[39m.\u001b[39mwarning(\u001b[39m\"\u001b[39m\u001b[39mInvalid Message:\u001b[39m\u001b[39m\"\u001b[39m, exc_info\u001b[39m=\u001b[39m\u001b[39mTrue\u001b[39;00m)\n",
      "\u001b[1;31mKeyboardInterrupt\u001b[0m: Interrupted by user"
     ]
    }
   ],
   "source": [
    "modo = int(input(\"Escolha a forma como pretende jogar?\\n1- Computador adivinha o teu número\\n0- Adivinha o número do computador\"))\n",
    "sup = 100\n",
    "inf = 0\n",
    "x = 0\n",
    "n = 0 \n",
    "t = 1\n",
    "if modo == 0:\n",
    "    import random \n",
    "    r = random.randrange(0,100)\n",
    "    x = int(input(\"Diga um número\"))\n",
    "    while r!=xX:\n",
    "        t = t + 1\n",
    "        if r>x:\n",
    "            print(\"maior\")\n",
    "        else:\n",
    "            print(\"menor\")\n",
    "        x = int(input(\"Diga um número\"))\n",
    "    print(\"Acertou em t tentativas!\")\n",
    "elif modo == 1:\n",
    "    pergunta = str()\n",
    "    acertou = \"Acertou\"\n",
    "    while pergunta!= acertou:\n",
    "        n = n + 1\n",
    "        x = int((sup + inf)/2)\n",
    "        pergunta = input(\"O seu número é \" + str(x) + \"?\")\n",
    "        if pergunta == \"maior\":\n",
    "            inf = x\n",
    "        else: \n",
    "            sup = x\n",
    "    print (\"Computador adivinhou o número em\" + str(n) + \"tentativas\")"
   ]
  }
 ],
 "metadata": {
  "kernelspec": {
   "display_name": "Python 3",
   "language": "python",
   "name": "python3"
  },
  "language_info": {
   "codemirror_mode": {
    "name": "ipython",
    "version": 3
   },
   "file_extension": ".py",
   "mimetype": "text/x-python",
   "name": "python",
   "nbconvert_exporter": "python",
   "pygments_lexer": "ipython3",
   "version": "3.11.5"
  },
  "orig_nbformat": 4
 },
 "nbformat": 4,
 "nbformat_minor": 2
}
